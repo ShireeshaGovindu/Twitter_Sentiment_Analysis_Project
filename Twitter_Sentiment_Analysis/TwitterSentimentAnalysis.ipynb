{
 "cells": [
  {
   "cell_type": "code",
   "execution_count": 53,
   "metadata": {},
   "outputs": [],
   "source": [
    "import pandas as pd\n",
    "import numpy as np\n",
    "import matplotlib.pyplot as plt\n",
    "import seaborn as sns"
   ]
  },
  {
   "cell_type": "code",
   "execution_count": 54,
   "metadata": {},
   "outputs": [],
   "source": [
    "import tweepy\n",
    "from tweepy import OAuthHandler"
   ]
  },
  {
   "cell_type": "code",
   "execution_count": 55,
   "metadata": {},
   "outputs": [],
   "source": [
    "\n",
    "## Set Connection\n",
    "\n",
    "consumer_key = \"0XoyFFInhdZAKZ5aHtH0hE8T9\"\n",
    "consumer_secret = \"RxXYHuMMMPp37Z070TOtFFRmBAuGr7z3CbM0Z57Hh272llRdYp\"\n",
    "access_token = \"937210653177032704-uOTcpQX86JvGwPCQR47eLUaZX2vmIFT\"\n",
    "access_token_secret = \"njqGu106dmfTFR2LksrSZE50nr7q0wp3TpfKS32wQ9s3W\"\n",
    "\n",
    "#We have use the about credentials to authenticate the API\n",
    "\n",
    "auth = tweepy.OAuthHandler(consumer_key, consumer_secret)\n",
    "auth.set_access_token(access_token, access_token_secret)\n",
    "api = tweepy.API(auth)"
   ]
  },
  {
   "cell_type": "code",
   "execution_count": 56,
   "metadata": {},
   "outputs": [
    {
     "name": "stdout",
     "output_type": "stream",
     "text": [
      "Empty DataFrame\n",
      "Columns: [Date, User, IsVerified, Tweet, Likes, RT, User_location]\n",
      "Index: []\n"
     ]
    }
   ],
   "source": [
    "##To get the tweets in a proper format, first we create a dataframe to store the extracted data.\n",
    "\n",
    "df = pd.DataFrame(columns = [\"Date\",\"User\",\"IsVerified\",\"Tweet\",\"Likes\",\"RT\",\"User_location\"])\n",
    "print(df)"
   ]
  },
  {
   "cell_type": "code",
   "execution_count": 57,
   "metadata": {},
   "outputs": [],
   "source": [
    "#Function to extract tweets\n",
    "\n",
    "def get_tweets(Topic, Count):\n",
    "    i=0\n",
    "    for tweet in tweepy.Cursor(api.search, q =Topic, count =100, lang =\"en\", exclude = 'retweets').items():\n",
    "        print(i, end = '\\r')\n",
    "        df.loc[i,\"Date\"] =tweet.created_at\n",
    "        df.loc[i,\"User\"] = tweet.user.name\n",
    "        df.loc[i,\"IsVerified\"] = tweet.user.verified\n",
    "        df.loc[i,\"Tweet\"] = tweet.text\n",
    "        df.loc[i, \"Likes\"] = tweet.favorite_count\n",
    "        df.loc[i,\"RT\"] = tweet.retweet_count\n",
    "        df.loc[i,\"User_location\"] = tweet.user.location\n",
    "        \n",
    "        #Save as csv\n",
    "        #df.to_csv(\"TweetDataset.csv\",index =False)\n",
    "        #Save as excel\n",
    "        df.to_excel('{}.xlsx'.format(\"TweetDataset\"),index =False)\n",
    "        \n",
    "        i =i+1\n",
    "        if i>Count :\n",
    "            break\n",
    "        else:\n",
    "            pass"
   ]
  },
  {
   "cell_type": "code",
   "execution_count": 58,
   "metadata": {},
   "outputs": [
    {
     "name": "stdout",
     "output_type": "stream",
     "text": [
      "200\r"
     ]
    }
   ],
   "source": [
    "Topic = [\"Obama\"]\n",
    "get_tweets(Topic, Count =200)"
   ]
  },
  {
   "cell_type": "code",
   "execution_count": 59,
   "metadata": {},
   "outputs": [
    {
     "data": {
      "text/html": [
       "<div>\n",
       "<style scoped>\n",
       "    .dataframe tbody tr th:only-of-type {\n",
       "        vertical-align: middle;\n",
       "    }\n",
       "\n",
       "    .dataframe tbody tr th {\n",
       "        vertical-align: top;\n",
       "    }\n",
       "\n",
       "    .dataframe thead th {\n",
       "        text-align: right;\n",
       "    }\n",
       "</style>\n",
       "<table border=\"1\" class=\"dataframe\">\n",
       "  <thead>\n",
       "    <tr style=\"text-align: right;\">\n",
       "      <th></th>\n",
       "      <th>Date</th>\n",
       "      <th>User</th>\n",
       "      <th>IsVerified</th>\n",
       "      <th>Tweet</th>\n",
       "      <th>Likes</th>\n",
       "      <th>RT</th>\n",
       "      <th>User_location</th>\n",
       "    </tr>\n",
       "  </thead>\n",
       "  <tbody>\n",
       "    <tr>\n",
       "      <th>0</th>\n",
       "      <td>2021-07-10 16:10:11</td>\n",
       "      <td>🎥👻Josh😱Coonrod📽🧟‍♂️</td>\n",
       "      <td>False</td>\n",
       "      <td>Do you think Obama has ever considered listeni...</td>\n",
       "      <td>0</td>\n",
       "      <td>0</td>\n",
       "      <td>Louisville, KY</td>\n",
       "    </tr>\n",
       "    <tr>\n",
       "      <th>1</th>\n",
       "      <td>2021-07-10 16:10:10</td>\n",
       "      <td>carson</td>\n",
       "      <td>False</td>\n",
       "      <td>@eunivrz obama has astronaut in the ocean on h...</td>\n",
       "      <td>0</td>\n",
       "      <td>0</td>\n",
       "      <td>he/him 14</td>\n",
       "    </tr>\n",
       "    <tr>\n",
       "      <th>2</th>\n",
       "      <td>2021-07-10 16:09:59</td>\n",
       "      <td>gunner (status: kickin back)</td>\n",
       "      <td>False</td>\n",
       "      <td>wow can’t believe Swagdaddy Sensei &amp;amp; Gunne...</td>\n",
       "      <td>0</td>\n",
       "      <td>0</td>\n",
       "      <td>Washington, USA</td>\n",
       "    </tr>\n",
       "    <tr>\n",
       "      <th>3</th>\n",
       "      <td>2021-07-10 16:09:55</td>\n",
       "      <td>❗️❗️❗️OTIS❗️❗️❗️</td>\n",
       "      <td>False</td>\n",
       "      <td>@BarackObama OBAMA LISTENS TO LATIN JAZZ NO</td>\n",
       "      <td>0</td>\n",
       "      <td>0</td>\n",
       "      <td></td>\n",
       "    </tr>\n",
       "    <tr>\n",
       "      <th>4</th>\n",
       "      <td>2021-07-10 16:09:54</td>\n",
       "      <td>Forest Garner</td>\n",
       "      <td>False</td>\n",
       "      <td>@SebWrites @cb27words @GimmeNature1976 I wish ...</td>\n",
       "      <td>0</td>\n",
       "      <td>0</td>\n",
       "      <td></td>\n",
       "    </tr>\n",
       "    <tr>\n",
       "      <th>5</th>\n",
       "      <td>2021-07-10 16:09:54</td>\n",
       "      <td>︎︎︎BigBoyBilly33︎︎🍥</td>\n",
       "      <td>False</td>\n",
       "      <td>im very disappointed mr obama why are you list...</td>\n",
       "      <td>0</td>\n",
       "      <td>0</td>\n",
       "      <td>yo mama house</td>\n",
       "    </tr>\n",
       "    <tr>\n",
       "      <th>6</th>\n",
       "      <td>2021-07-10 16:09:46</td>\n",
       "      <td>Dave</td>\n",
       "      <td>False</td>\n",
       "      <td>@ananavarro Because in politics like religion ...</td>\n",
       "      <td>0</td>\n",
       "      <td>0</td>\n",
       "      <td>Warwick, England</td>\n",
       "    </tr>\n",
       "    <tr>\n",
       "      <th>7</th>\n",
       "      <td>2021-07-10 16:09:39</td>\n",
       "      <td>jojo²⁸ • loves mat</td>\n",
       "      <td>False</td>\n",
       "      <td>barack obama has taste https://t.co/OZWR5CpauG</td>\n",
       "      <td>0</td>\n",
       "      <td>0</td>\n",
       "      <td>track 2 𓃰</td>\n",
       "    </tr>\n",
       "    <tr>\n",
       "      <th>8</th>\n",
       "      <td>2021-07-10 16:09:29</td>\n",
       "      <td>Get Ben Simmons Out of My City!</td>\n",
       "      <td>False</td>\n",
       "      <td>@fauxfresh I can see Obama blasting daisy lane...</td>\n",
       "      <td>0</td>\n",
       "      <td>0</td>\n",
       "      <td>Hunting for thick pussy</td>\n",
       "    </tr>\n",
       "    <tr>\n",
       "      <th>9</th>\n",
       "      <td>2021-07-10 16:09:28</td>\n",
       "      <td>princess morbuck$</td>\n",
       "      <td>False</td>\n",
       "      <td>Thanks Obama! https://t.co/Q1xMhfd30l</td>\n",
       "      <td>0</td>\n",
       "      <td>0</td>\n",
       "      <td>md,va,wa</td>\n",
       "    </tr>\n",
       "  </tbody>\n",
       "</table>\n",
       "</div>"
      ],
      "text/plain": [
       "                  Date                             User IsVerified  \\\n",
       "0  2021-07-10 16:10:11              🎥👻Josh😱Coonrod📽🧟‍♂️      False   \n",
       "1  2021-07-10 16:10:10                           carson      False   \n",
       "2  2021-07-10 16:09:59     gunner (status: kickin back)      False   \n",
       "3  2021-07-10 16:09:55                 ❗️❗️❗️OTIS❗️❗️❗️      False   \n",
       "4  2021-07-10 16:09:54                    Forest Garner      False   \n",
       "5  2021-07-10 16:09:54              ︎︎︎BigBoyBilly33︎︎🍥      False   \n",
       "6  2021-07-10 16:09:46                             Dave      False   \n",
       "7  2021-07-10 16:09:39               jojo²⁸ • loves mat      False   \n",
       "8  2021-07-10 16:09:29  Get Ben Simmons Out of My City!      False   \n",
       "9  2021-07-10 16:09:28                princess morbuck$      False   \n",
       "\n",
       "                                               Tweet Likes RT  \\\n",
       "0  Do you think Obama has ever considered listeni...     0  0   \n",
       "1  @eunivrz obama has astronaut in the ocean on h...     0  0   \n",
       "2  wow can’t believe Swagdaddy Sensei &amp; Gunne...     0  0   \n",
       "3        @BarackObama OBAMA LISTENS TO LATIN JAZZ NO     0  0   \n",
       "4  @SebWrites @cb27words @GimmeNature1976 I wish ...     0  0   \n",
       "5  im very disappointed mr obama why are you list...     0  0   \n",
       "6  @ananavarro Because in politics like religion ...     0  0   \n",
       "7     barack obama has taste https://t.co/OZWR5CpauG     0  0   \n",
       "8  @fauxfresh I can see Obama blasting daisy lane...     0  0   \n",
       "9              Thanks Obama! https://t.co/Q1xMhfd30l     0  0   \n",
       "\n",
       "             User_location  \n",
       "0           Louisville, KY  \n",
       "1                he/him 14  \n",
       "2          Washington, USA  \n",
       "3                           \n",
       "4                           \n",
       "5            yo mama house  \n",
       "6         Warwick, England  \n",
       "7                track 2 𓃰  \n",
       "8  Hunting for thick pussy  \n",
       "9                 md,va,wa  "
      ]
     },
     "execution_count": 59,
     "metadata": {},
     "output_type": "execute_result"
    }
   ],
   "source": [
    "df.head(10)"
   ]
  },
  {
   "cell_type": "markdown",
   "metadata": {},
   "source": [
    "# Preprocessing the Data"
   ]
  },
  {
   "cell_type": "code",
   "execution_count": 60,
   "metadata": {},
   "outputs": [],
   "source": [
    "#Function to clean the Tweet\n",
    "\n",
    "import re\n",
    "def clean_tweet(tweet):\n",
    "    return ' '.join(re.sub('(@[A-Za-z0-9]+)|([^0-9A-Za-z \\t])|(w+:\\/\\/\\s+)|([RT])|(https://)', ' ',str(tweet).lower()).split())"
   ]
  },
  {
   "cell_type": "code",
   "execution_count": 61,
   "metadata": {},
   "outputs": [],
   "source": [
    "#Call function to get clean tweets\n",
    "df['clean_tweet'] = df['Tweet'].apply(lambda x : clean_tweet(x))"
   ]
  },
  {
   "cell_type": "markdown",
   "metadata": {},
   "source": [
    "# Analysing sentiment using Textblob"
   ]
  },
  {
   "cell_type": "code",
   "execution_count": 62,
   "metadata": {},
   "outputs": [],
   "source": [
    "from textblob import TextBlob"
   ]
  },
  {
   "cell_type": "code",
   "execution_count": 63,
   "metadata": {},
   "outputs": [],
   "source": [
    "def analyze_sentiment(tweet):\n",
    "    analysis = TextBlob(tweet)\n",
    "    if analysis.sentiment.polarity >0 :\n",
    "        return 'Positive'\n",
    "    elif analysis.sentiment.polarity ==0 :\n",
    "        return 'Neutral'\n",
    "    else :\n",
    "        return 'Negative'"
   ]
  },
  {
   "cell_type": "code",
   "execution_count": 64,
   "metadata": {},
   "outputs": [],
   "source": [
    "#Call function to get sentiments\n",
    "df[\"Sentiment\"] = df[\"Tweet\"].apply(lambda x : analyze_sentiment(x))"
   ]
  },
  {
   "cell_type": "code",
   "execution_count": 65,
   "metadata": {},
   "outputs": [
    {
     "name": "stdout",
     "output_type": "stream",
     "text": [
      "Original tweet : \n",
      " THIS IS NOT RANDOM! President Trump's Cases Against Big Tech Assigned to Two OBAMA Judges and One HW BUSH Judge https://t.co/5QJwzuCSs0\n",
      "\n",
      "Clean tweet : \n",
      " this is not random president trump s cases against big tech assigned to two obama judges and one hw bush judge t co 5qjwzucss0\n",
      "\n",
      "Sentiment of the tweet : \n",
      " Positive\n"
     ]
    }
   ],
   "source": [
    "#Summary of a random tweet\n",
    "n =20\n",
    "print(\"Original tweet : \\n\", df['Tweet'][n])\n",
    "print()\n",
    "print(\"Clean tweet : \\n\", df['clean_tweet'][n])\n",
    "print()\n",
    "print(\"Sentiment of the tweet : \\n\", df['Sentiment'][n])"
   ]
  },
  {
   "cell_type": "code",
   "execution_count": 66,
   "metadata": {},
   "outputs": [
    {
     "data": {
      "text/plain": [
       "Neutral     92\n",
       "Positive    63\n",
       "Negative    46\n",
       "Name: Sentiment, dtype: int64"
      ]
     },
     "execution_count": 66,
     "metadata": {},
     "output_type": "execute_result"
    }
   ],
   "source": [
    "df[\"Sentiment\"].value_counts()"
   ]
  },
  {
   "cell_type": "code",
   "execution_count": 67,
   "metadata": {},
   "outputs": [],
   "source": [
    "import warnings\n",
    "warnings.filterwarnings('ignore')"
   ]
  },
  {
   "cell_type": "code",
   "execution_count": 68,
   "metadata": {},
   "outputs": [
    {
     "data": {
      "text/plain": [
       "Text(0.5, 1.0, 'Summary of counts for Total Tweets')"
      ]
     },
     "execution_count": 68,
     "metadata": {},
     "output_type": "execute_result"
    },
    {
     "data": {
      "image/png": "[encoded data removed]",
      "text/plain": [
       "<Figure size 432x288 with 1 Axes>"
      ]
     },
     "metadata": {
      "needs_background": "light"
     },
     "output_type": "display_data"
    }
   ],
   "source": [
    "##sns.countplot\n",
    "\n",
    "sns.countplot(df[\"Sentiment\"])\n",
    "plt.title(\"Summary of counts for Total Tweets\")"
   ]
  },
  {
   "cell_type": "code",
   "execution_count": 69,
   "metadata": {},
   "outputs": [
    {
     "data": {
      "image/png": "[encoded data removed]",
      "text/plain": [
       "<Figure size 432x288 with 1 Axes>"
      ]
     },
     "metadata": {},
     "output_type": "display_data"
    }
   ],
   "source": [
    "#Pie chart\n",
    "\n",
    "a=len(df[df[\"Sentiment\"]==\"Positive\"])\n",
    "b =len(df[df[\"Sentiment\"]==\"Negative\"])\n",
    "c = len(df[df[\"Sentiment\"] == \"Neutral\"])\n",
    "d= np.array([a,b,c])\n",
    "explode = (0.1,0.0,0.1)\n",
    "plt.pie(d,shadow =True, explode = explode, labels = [\"Positive\",\"Negative\", \"Neutral\"],autopct = '%1.2f%%');"
   ]
  },
  {
   "cell_type": "code",
   "execution_count": 70,
   "metadata": {},
   "outputs": [
    {
     "data": {
      "text/plain": [
       "Text(0.5, 1.0, 'Summary of Counts for Total tweets,Distributed by if the User has a verified Account or not')"
      ]
     },
     "execution_count": 70,
     "metadata": {},
     "output_type": "execute_result"
    },
    {
     "data": {
      "image/png": "[encoded data removed]",
      "text/plain": [
       "<Figure size 432x288 with 1 Axes>"
      ]
     },
     "metadata": {
      "needs_background": "light"
     },
     "output_type": "display_data"
    }
   ],
   "source": [
    "sns.countplot(df[\"Sentiment\"],hue=df.IsVerified)\n",
    "plt.title(\"Summary of Counts for Total tweets,Distributed by if the User has a verified Account or not\")"
   ]
  },
  {
   "cell_type": "code",
   "execution_count": null,
   "metadata": {},
   "outputs": [],
   "source": []
  },
  {
   "cell_type": "code",
   "execution_count": null,
   "metadata": {},
   "outputs": [],
   "source": []
  }
 ],
 "metadata": {
  "kernelspec": {
   "display_name": "Python 3",
   "language": "python",
   "name": "python3"
  },
  "language_info": {
   "codemirror_mode": {
    "name": "ipython",
    "version": 3
   },
   "file_extension": ".py",
   "mimetype": "text/x-python",
   "name": "python",
   "nbconvert_exporter": "python",
   "pygments_lexer": "ipython3",
   "version": "3.8.5"
  }
 },
 "nbformat": 4,
 "nbformat_minor": 4
}
